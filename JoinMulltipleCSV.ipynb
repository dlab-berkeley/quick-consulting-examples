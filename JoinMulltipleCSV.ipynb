{
 "cells": [
  {
   "cell_type": "markdown",
   "metadata": {},
   "source": [
    "# Example of joining multiple CSV files into a Pandas DataFrame"
   ]
  },
  {
   "cell_type": "markdown",
   "metadata": {},
   "source": [
    "This is based on a real-world example of recording student scores for each class lecture, where the student email aaddress and score is stored in a separate CSV file for each lecture.\n",
    "\n",
    "The result should be a DataFrame with a sorted list of all student email addresses and their corresponding score for each lecture, with NaN in place where the student did not have score recorded for the lecture."
   ]
  },
  {
   "cell_type": "code",
   "execution_count": 1,
   "metadata": {},
   "outputs": [],
   "source": [
    "# Unix style pathname pattern expansion\n",
    "# https://docs.python.org/2/library/glob.html\n",
    "import glob\n",
    "\n",
    "import pandas as pd"
   ]
  },
  {
   "cell_type": "code",
   "execution_count": 3,
   "metadata": {},
   "outputs": [
    {
     "data": {
      "text/html": [
       "<div>\n",
       "<style scoped>\n",
       "    .dataframe tbody tr th:only-of-type {\n",
       "        vertical-align: middle;\n",
       "    }\n",
       "\n",
       "    .dataframe tbody tr th {\n",
       "        vertical-align: top;\n",
       "    }\n",
       "\n",
       "    .dataframe thead th {\n",
       "        text-align: right;\n",
       "    }\n",
       "</style>\n",
       "<table border=\"1\" class=\"dataframe\">\n",
       "  <thead>\n",
       "    <tr style=\"text-align: right;\">\n",
       "      <th></th>\n",
       "      <th>score</th>\n",
       "      <th>score_lecture4</th>\n",
       "      <th>score_lecture23</th>\n",
       "    </tr>\n",
       "    <tr>\n",
       "      <th>email</th>\n",
       "      <th></th>\n",
       "      <th></th>\n",
       "      <th></th>\n",
       "    </tr>\n",
       "  </thead>\n",
       "  <tbody>\n",
       "    <tr>\n",
       "      <th>student1@berkeley.edu</th>\n",
       "      <td>92.0</td>\n",
       "      <td>90.0</td>\n",
       "      <td>93.0</td>\n",
       "    </tr>\n",
       "    <tr>\n",
       "      <th>student2@berkeley.edu</th>\n",
       "      <td>90.0</td>\n",
       "      <td>92.0</td>\n",
       "      <td>98.0</td>\n",
       "    </tr>\n",
       "    <tr>\n",
       "      <th>student3@berkeley.edu</th>\n",
       "      <td>77.0</td>\n",
       "      <td>NaN</td>\n",
       "      <td>87.0</td>\n",
       "    </tr>\n",
       "    <tr>\n",
       "      <th>student4@@berkeley.edu</th>\n",
       "      <td>NaN</td>\n",
       "      <td>88.0</td>\n",
       "      <td>NaN</td>\n",
       "    </tr>\n",
       "    <tr>\n",
       "      <th>student4@berkeley.edu</th>\n",
       "      <td>91.0</td>\n",
       "      <td>NaN</td>\n",
       "      <td>94.0</td>\n",
       "    </tr>\n",
       "    <tr>\n",
       "      <th>student5@berkeley.edu</th>\n",
       "      <td>88.0</td>\n",
       "      <td>NaN</td>\n",
       "      <td>NaN</td>\n",
       "    </tr>\n",
       "  </tbody>\n",
       "</table>\n",
       "</div>"
      ],
      "text/plain": [
       "                        score  score_lecture4  score_lecture23\n",
       "email                                                         \n",
       "student1@berkeley.edu    92.0            90.0             93.0\n",
       "student2@berkeley.edu    90.0            92.0             98.0\n",
       "student3@berkeley.edu    77.0             NaN             87.0\n",
       "student4@@berkeley.edu    NaN            88.0              NaN\n",
       "student4@berkeley.edu    91.0             NaN             94.0\n",
       "student5@berkeley.edu    88.0             NaN              NaN"
      ]
     },
     "execution_count": 3,
     "metadata": {},
     "output_type": "execute_result"
    }
   ],
   "source": [
    "# create a dataframe with a single empty column named 'email'\n",
    "result = pd.DataFrame({'email':[]})\n",
    "# set the 'email' column as our index which we'll use for joining later\n",
    "result = result.set_index('email')\n",
    "\n",
    "# read in the list of files named lecture*.csv from the current directory\n",
    "lectures = glob.glob('lecture*.csv')\n",
    "for filename in lectures:\n",
    "    lecname = filename.rsplit('.csv')[0] # remove the .csv extension\n",
    "    df = pd.read_csv(filename)\n",
    "    df = df.drop(['name'], axis=1) # drop any columns we don't need; axis 1 means 'column'\n",
    "    df = df.set_index('email') # set the index on this dataframe to match our result dataframe index\n",
    "\n",
    "    # using the 'email' column perform an 'outer join', sorting the results based on the join key\n",
    "    # and uniquely name the right-hand joined score columns based on the lecture name as a suffix\n",
    "    result = result.join(df, on='email', how='outer', rsuffix=f\"_{lecname}\", sort=True)\n",
    "result"
   ]
  },
  {
   "cell_type": "code",
   "execution_count": null,
   "metadata": {},
   "outputs": [],
   "source": []
  }
 ],
 "metadata": {
  "kernelspec": {
   "display_name": "Python 3",
   "language": "python",
   "name": "python3"
  },
  "language_info": {
   "codemirror_mode": {
    "name": "ipython",
    "version": 3
   },
   "file_extension": ".py",
   "mimetype": "text/x-python",
   "name": "python",
   "nbconvert_exporter": "python",
   "pygments_lexer": "ipython3",
   "version": "3.7.1"
  }
 },
 "nbformat": 4,
 "nbformat_minor": 2
}
