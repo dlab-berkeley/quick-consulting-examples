{
 "cells": [
  {
   "cell_type": "markdown",
   "metadata": {},
   "source": [
    "D-Lab Consultant lead on this request, Joshua Lin ([myconsonance](https://github.com/myconsonance))\n",
    "\n",
    "Solution adapted from D-Lab consultant Alexander Stephenson ([asteves](https://github.com/asteves))\n",
    "\n",
    "See also [Python solution](Volt%20Stats%20solution%20in%20Python.ipynb)"
   ]
  },
  {
   "cell_type": "code",
   "execution_count": 1,
   "metadata": {},
   "outputs": [
    {
     "name": "stderr",
     "output_type": "stream",
     "text": [
      "── \u001b[1mAttaching packages\u001b[22m ─────────────────────────────────────── tidyverse 1.3.0 ──\n",
      "\n",
      "\u001b[32m✔\u001b[39m \u001b[34mggplot2\u001b[39m 3.3.3     \u001b[32m✔\u001b[39m \u001b[34mpurrr  \u001b[39m 0.3.4\n",
      "\u001b[32m✔\u001b[39m \u001b[34mtibble \u001b[39m 3.0.6     \u001b[32m✔\u001b[39m \u001b[34mdplyr  \u001b[39m 1.0.4\n",
      "\u001b[32m✔\u001b[39m \u001b[34mtidyr  \u001b[39m 1.1.2     \u001b[32m✔\u001b[39m \u001b[34mstringr\u001b[39m 1.4.0\n",
      "\u001b[32m✔\u001b[39m \u001b[34mreadr  \u001b[39m 1.4.0     \u001b[32m✔\u001b[39m \u001b[34mforcats\u001b[39m 0.5.1\n",
      "\n",
      "── \u001b[1mConflicts\u001b[22m ────────────────────────────────────────── tidyverse_conflicts() ──\n",
      "\u001b[31m✖\u001b[39m \u001b[34mdplyr\u001b[39m::\u001b[32mfilter()\u001b[39m masks \u001b[34mstats\u001b[39m::filter()\n",
      "\u001b[31m✖\u001b[39m \u001b[34mdplyr\u001b[39m::\u001b[32mlag()\u001b[39m    masks \u001b[34mstats\u001b[39m::lag()\n",
      "\n"
     ]
    },
    {
     "ename": "ERROR",
     "evalue": "Error in extract2(., 1): could not find function \"extract2\"\n",
     "output_type": "error",
     "traceback": [
      "Error in extract2(., 1): could not find function \"extract2\"\nTraceback:\n",
      "1. url %>% fromJSON() %>% extract2(1) %>% as_tibble() %>% select(-V1) %>% \n .     separate(V2, into = c(\"V1\", \"V2\"), sep = \"~\") %>% rename_at(vars(oldNames), \n .     ~newNames)",
      "2. rename_at(., vars(oldNames), ~newNames)",
      "3. tbl_at_vars(.tbl, .vars, .include_group_vars = TRUE)",
      "4. tbl_vars(tbl)",
      "5. new_sel_vars(tbl_vars_dispatch(x), group_vars(x))",
      "6. structure(vars, groups = group_vars, class = c(\"dplyr_sel_vars\", \n .     \"character\"))",
      "7. tbl_vars_dispatch(x)",
      "8. separate(., V2, into = c(\"V1\", \"V2\"), sep = \"~\")",
      "9. select(., -V1)",
      "10. as_tibble(.)"
     ]
    }
   ],
   "source": [
    "library(tidyverse)\n",
    "url <- \"https://www.voltstats.net/Stats/LeaderboardTableJson\"\n",
    "oldNames <- paste(\"V1\", c(2:10), sep = \"\")\n",
    "newNames <- c(\"serial\", \"nickname\", \"state\", \"ev_miles\", \n",
    "              \"total_miles\", \"ev_perc\", \"mpg\", \"mpg_e\",\n",
    "              \"mpg_cs\")\n",
    "cars <- url %>% \n",
    "  fromJSON()%>%\n",
    "  extract2(1)%>%\n",
    "  as_tibble()%>%\n",
    "  select(-V1)%>%\n",
    "  separate(V2, into = c(\"V1\", \"V2\"),sep = \"~\")%>%\n",
    "  rename_at(vars(oldNames), ~ newNames)"
   ]
  },
  {
   "cell_type": "code",
   "execution_count": null,
   "metadata": {},
   "outputs": [],
   "source": []
  }
 ],
 "metadata": {
  "kernelspec": {
   "display_name": "R",
   "language": "R",
   "name": "ir"
  },
  "language_info": {
   "codemirror_mode": "r",
   "file_extension": ".r",
   "mimetype": "text/x-r-source",
   "name": "R",
   "pygments_lexer": "r",
   "version": "4.0.3"
  }
 },
 "nbformat": 4,
 "nbformat_minor": 4
}
